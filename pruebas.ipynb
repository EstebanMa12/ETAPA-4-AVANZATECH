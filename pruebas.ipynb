{
 "cells": [
  {
   "cell_type": "code",
   "execution_count": 7,
   "metadata": {},
   "outputs": [
    {
     "data": {
      "text/plain": [
       "([2, 1, 3], [0, 5, 6, 7])"
      ]
     },
     "execution_count": 7,
     "metadata": {},
     "output_type": "execute_result"
    }
   ],
   "source": [
    "array = [2, 1, 3, 0, 5, 6, 7]\n",
    "mid = (0 + len(array))//2\n",
    "firstpart = array[:mid]\n",
    "secondpart = array[mid:]\n",
    "firstpart, secondpart"
   ]
  },
  {
   "cell_type": "code",
   "execution_count": 8,
   "metadata": {},
   "outputs": [
    {
     "data": {
      "text/plain": [
       "(([2], ([1], [3])), (([0], [5]), ([6], [7])))"
      ]
     },
     "execution_count": 8,
     "metadata": {},
     "output_type": "execute_result"
    }
   ],
   "source": [
    "def divide_and_conquer(array):\n",
    "    if len(array) == 1:\n",
    "        return array\n",
    "    mid = (0 + len(array))//2\n",
    "    firstpart = array[:mid]\n",
    "    secondpart = array[mid:]\n",
    "    return divide_and_conquer(firstpart), divide_and_conquer(secondpart)\n",
    "\n",
    "divide_and_conquer(array)"
   ]
  }
 ],
 "metadata": {
  "kernelspec": {
   "display_name": "Python 3",
   "language": "python",
   "name": "python3"
  },
  "language_info": {
   "codemirror_mode": {
    "name": "ipython",
    "version": 3
   },
   "file_extension": ".py",
   "mimetype": "text/x-python",
   "name": "python",
   "nbconvert_exporter": "python",
   "pygments_lexer": "ipython3",
   "version": "3.10.12"
  },
  "orig_nbformat": 4
 },
 "nbformat": 4,
 "nbformat_minor": 2
}
